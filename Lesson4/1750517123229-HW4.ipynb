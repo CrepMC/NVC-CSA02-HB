{
 "cells": [
  {
   "cell_type": "code",
   "execution_count": null,
   "id": "d9ce5087",
   "metadata": {},
   "outputs": [],
   "source": [
    "import pandas as pd\n",
    "\n",
    "df = pd.read_csv('yob2010.txt', names=['Name', 'Gender', 'Count'])\n",
    "df.head()"
   ]
  },
  {
   "cell_type": "markdown",
   "id": "bba047d3",
   "metadata": {},
   "source": [
    "### câu 1: có bao nhiêu em bé trai và em bé gái được sinh vào năm 2010?"
   ]
  },
  {
   "cell_type": "code",
   "execution_count": 1,
   "id": "e8f76e89",
   "metadata": {},
   "outputs": [
    {
     "ename": "NameError",
     "evalue": "name 'df' is not defined",
     "output_type": "error",
     "traceback": [
      "\u001b[31m---------------------------------------------------------------------------\u001b[39m",
      "\u001b[31mNameError\u001b[39m                                 Traceback (most recent call last)",
      "\u001b[36mCell\u001b[39m\u001b[36m \u001b[39m\u001b[32mIn[1]\u001b[39m\u001b[32m, line 1\u001b[39m\n\u001b[32m----> \u001b[39m\u001b[32m1\u001b[39m gender_counts = \u001b[43mdf\u001b[49m.groupby(\u001b[33m'\u001b[39m\u001b[33mGender\u001b[39m\u001b[33m'\u001b[39m)[\u001b[33m'\u001b[39m\u001b[33mCount\u001b[39m\u001b[33m'\u001b[39m].sum()\n\u001b[32m      2\u001b[39m \u001b[38;5;28mprint\u001b[39m(\u001b[33m'\u001b[39m\u001b[33mTổng số bé gái (F):\u001b[39m\u001b[33m'\u001b[39m, gender_counts[\u001b[33m'\u001b[39m\u001b[33mF\u001b[39m\u001b[33m'\u001b[39m])\n\u001b[32m      3\u001b[39m \u001b[38;5;28mprint\u001b[39m(\u001b[33m'\u001b[39m\u001b[33mTổng số bé trai (M):\u001b[39m\u001b[33m'\u001b[39m, gender_counts[\u001b[33m'\u001b[39m\u001b[33mM\u001b[39m\u001b[33m'\u001b[39m])\n",
      "\u001b[31mNameError\u001b[39m: name 'df' is not defined"
     ]
    }
   ],
   "source": [
    "gender_counts = df.groupby('Gender')['Count'].sum()\n",
    "print('Tổng số bé gái (F):', gender_counts['F'])\n",
    "print('Tổng số bé trai (M):', gender_counts['M'])"
   ]
  },
  {
   "cell_type": "markdown",
   "id": "ab1e521b",
   "metadata": {},
   "source": [
    "### câu 2: cop 10 tên phổ biến nhất theo từng giới tính"
   ]
  },
  {
   "cell_type": "code",
   "execution_count": null,
   "id": "4ce701f1",
   "metadata": {},
   "outputs": [],
   "source": [
    "top10_girls = df[df['Gender'] == 'F'].nlargest(10, 'Count')\n",
    "top10_boys = df[df['Gender'] == 'M'].nlargest(10, 'Count')\n",
    "\n",
    "print('Top 10 tên bé gái phổ biến nhất:')\n",
    "print(top10_girls)\n",
    "\n",
    "print('Top 10 tên bé trai phổ biến nhất:')\n",
    "print(top10_boys)"
   ]
  }
 ],
 "metadata": {
  "kernelspec": {
   "display_name": "venv",
   "language": "python",
   "name": "python3"
  },
  "language_info": {
   "codemirror_mode": {
    "name": "ipython",
    "version": 3
   },
   "file_extension": ".py",
   "mimetype": "text/x-python",
   "name": "python",
   "nbconvert_exporter": "python",
   "pygments_lexer": "ipython3",
   "version": "3.12.5"
  }
 },
 "nbformat": 4,
 "nbformat_minor": 5
}
