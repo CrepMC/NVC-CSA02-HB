{
 "cells": [
  {
   "cell_type": "code",
   "execution_count": 1,
   "id": "3c1d1fd0",
   "metadata": {},
   "outputs": [
    {
     "name": "stdout",
     "output_type": "stream",
     "text": [
      "Đã sinh thêm 1000 dòng dữ liệu mới và lưu vào house_prices_augmented.csv\n"
     ]
    }
   ],
   "source": [
    "import pandas as pd\n",
    "import numpy as np\n",
    "from sklearn.linear_model import LinearRegression\n",
    "\n",
    "# Đọc dữ liệu gốc\n",
    "data = pd.read_csv(\"house_prices.csv\")\n",
    "\n",
    "# Huấn luyện mô hình hồi quy tuyến tính\n",
    "X = data[[\"Area\", \"Bedrooms\", \"Age\"]]\n",
    "y = data[\"Price\"]\n",
    "model = LinearRegression()\n",
    "model.fit(X, y)\n",
    "\n",
    "# Sinh thêm 1000 dữ liệu mới\n",
    "np.random.seed(42)\n",
    "areas = np.random.randint(1400, 3200, 1000)\n",
    "bedrooms = np.random.randint(2, 6, 1000)\n",
    "ages = np.random.randint(2, 35, 1000)\n",
    "\n",
    "X_new = pd.DataFrame({\n",
    "    \"Area\": areas,\n",
    "    \"Bedrooms\": bedrooms,\n",
    "    \"Age\": ages\n",
    "})\n",
    "\n",
    "# Dự đoán giá với mô hình, thêm nhiễu nhỏ để dữ liệu thực tế hơn (độ chính xác ~80%)\n",
    "y_pred = model.predict(X_new)\n",
    "noise = np.random.normal(0, y.std() * 0.2, 1000)  # 20% nhiễu\n",
    "prices = (y_pred + noise).astype(int)\n",
    "\n",
    "X_new[\"Price\"] = prices\n",
    "\n",
    "# Gộp với dữ liệu cũ và lưu lại\n",
    "data_augmented = pd.concat([data, X_new], ignore_index=True)\n",
    "data_augmented.to_csv(\"house_prices_augmented.csv\", index=False)\n",
    "print(\"Đã sinh thêm 1000 dòng dữ liệu mới và lưu vào house_prices_augmented.csv\")"
   ]
  }
 ],
 "metadata": {
  "kernelspec": {
   "display_name": "venv",
   "language": "python",
   "name": "python3"
  },
  "language_info": {
   "codemirror_mode": {
    "name": "ipython",
    "version": 3
   },
   "file_extension": ".py",
   "mimetype": "text/x-python",
   "name": "python",
   "nbconvert_exporter": "python",
   "pygments_lexer": "ipython3",
   "version": "3.12.5"
  }
 },
 "nbformat": 4,
 "nbformat_minor": 5
}
